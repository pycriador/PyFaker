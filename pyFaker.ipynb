{
  "nbformat": 4,
  "nbformat_minor": 0,
  "metadata": {
    "colab": {
      "name": "pyFaker.ipynb",
      "provenance": [],
      "collapsed_sections": [],
      "authorship_tag": "ABX9TyMqtWeLXNaOvEOIgFt6B85l",
      "include_colab_link": true
    },
    "kernelspec": {
      "name": "python3",
      "display_name": "Python 3"
    },
    "language_info": {
      "name": "python"
    }
  },
  "cells": [
    {
      "cell_type": "markdown",
      "metadata": {
        "id": "view-in-github",
        "colab_type": "text"
      },
      "source": [
        "<a href=\"https://colab.research.google.com/github/pycriador/PyFaker/blob/main/pyFaker.ipynb\" target=\"_parent\"><img src=\"https://colab.research.google.com/assets/colab-badge.svg\" alt=\"Open In Colab\"/></a>"
      ]
    },
    {
      "cell_type": "markdown",
      "source": [
        "#Geração de dados aleatórios"
      ],
      "metadata": {
        "id": "6mfBoixA_su1"
      }
    },
    {
      "cell_type": "markdown",
      "source": [
        "Esse script foi criado para a geração de relatórios simples e aleatórios para testar a sua aplicação em Pandas (ou qualquer outra plataforma que você precise utilizar dados como exemplo)."
      ],
      "metadata": {
        "id": "bcP9Rt_A_7gU"
      }
    },
    {
      "cell_type": "markdown",
      "source": [
        "O módulo utilizado é o Faker e você pode baixar pelo próprio pip"
      ],
      "metadata": {
        "id": "CSpu13e7A1bt"
      }
    },
    {
      "cell_type": "code",
      "execution_count": null,
      "metadata": {
        "id": "93uBBSKl_PMp"
      },
      "outputs": [],
      "source": [
        "!pip install faker"
      ]
    },
    {
      "cell_type": "markdown",
      "source": [
        "Eu fiz uma implementação simples do Faker importando e salvando os dados em dicionário para enviar ao Pandas"
      ],
      "metadata": {
        "id": "PhIopYORBK68"
      }
    },
    {
      "cell_type": "code",
      "source": [
        "from faker import Faker\n",
        "faker = Faker('pt-BR')\n",
        "\n",
        "class GenFaker():\n",
        "    def faker_dict(self):\n",
        "        data = {}\n",
        "        #from collections import OrderedDict\n",
        "        #data = OrderedDict()\n",
        "\n",
        "        #Documentação: https://faker.readthedocs.io/en/master/locales/pt_BR.html\n",
        "        data.setdefault('NOME', faker.name())\n",
        "        #prefix (Prefixo - Sr. Sra) - prefix_female - prefix_male\n",
        "        #first_name_female (Nomes Femininos) - last_name_female - name_female\n",
        "        #first_name_male (Nomes Masculinos) - last_name_male - name_male\n",
        "        #first_name - Primeiro nome - last_name\n",
        "        data.setdefault('PREFIXO ENDEREÇO', faker.street_prefix())\n",
        "        data.setdefault('ENDEREÇO', faker.street_name())\n",
        "        #street_address (Endereço completo)\n",
        "        data.setdefault('NÚMERO', faker.building_number())\n",
        "        data.setdefault('NASCIMENTO', faker.date_of_birth())\n",
        "        data.setdefault('E-MAIL PESSOAL', faker.ascii_email())\n",
        "        data.setdefault('E-MAIL EMPRESA', faker.ascii_company_email())\n",
        "        #E-mail falso -> faker.ascii_safe_email()\n",
        "        data.setdefault('CELULAR', faker.cellphone_number())\n",
        "        data.setdefault('CPF', faker.cpf())\n",
        "        data.setdefault('RG', faker.rg())\n",
        "        data.setdefault('ESTADO', faker.administrative_unit())\n",
        "        data.setdefault('BAIRRO', faker.bairro())\n",
        "        data.setdefault('CIDADE', faker.city())\n",
        "        data.setdefault('PAÍS', faker.country())\n",
        "        data.setdefault('SIGLA ESTADO', faker.estado()[0])\n",
        "        data.setdefault('ESTADO', faker.estado()[1])\n",
        "        data.setdefault('CEP', faker.postcode())\n",
        "        data.setdefault('PLACA CARRO', faker.license_plate())\n",
        "        #Deixar a primeira letra maiúscula\n",
        "        data.setdefault('COR CARRO', faker.safe_color_name().capitalize()) #color_name\n",
        "        data.setdefault('EMPRESA', f'{faker.company()}{faker.company_suffix()}')\n",
        "        data.setdefault('CPNJ', faker.cnpj())\n",
        "        data.setdefault('CARGO', faker.job())\n",
        "        data.setdefault('DATA DE COMPRA', faker.date_this_month())\n",
        "\n",
        "        #Nessa variável, eu guardo a ordem das colunas que eu fiz até aqui.\n",
        "        # Se você quiser exportar os dados em ordem alfabetica, é só comentar\n",
        "        # a próxima linha\n",
        "        self.cols = data.keys()\n",
        "        return data"
      ],
      "metadata": {
        "id": "HZvsgn9ZBQVV"
      },
      "execution_count": 6,
      "outputs": []
    },
    {
      "cell_type": "markdown",
      "source": [
        "Nessa parte, eu chamo a classe e a função e faço um loop com 100 repetições para preencher um dicionário em Python"
      ],
      "metadata": {
        "id": "SGvpC93NCBOU"
      }
    },
    {
      "cell_type": "code",
      "source": [
        "import pandas as pd\n",
        "\n",
        "app = GenFaker()\n",
        "df_base = pd.DataFrame()\n",
        "\n",
        "for _ in range(0, 100):\n",
        "    data = app.faker_dict()\n",
        "    df_base = df_base.append(data, ignore_index=True)\n",
        "\n",
        "#Ordenar conforme posição do dict\n",
        "#Se você quiser guardar em ordem alfabetica, comentar a próxima linha\n",
        "df_base = df_base[app.cols]\n",
        "#Exportar em XLSX\n",
        "df_base.to_excel(f'Arquivo de exemplo.xlsx', sheet_name='Base de cadastro', index=False)\n",
        "#Exportar em CSV\n",
        "df_base.to_csv(f'Arquivo de exemplo.csv', index=False, encoding='ISO-8859-1', sep=';')"
      ],
      "metadata": {
        "id": "OVWS0ARKB-qI"
      },
      "execution_count": 7,
      "outputs": []
    },
    {
      "cell_type": "markdown",
      "source": [
        "#Bônus\n",
        "\n",
        "É possível exportar o resultado para um banco de dados, no exemplo vou utlizar a biblioteca **sqlalchemy** e uma base local com SQLite"
      ],
      "metadata": {
        "id": "Fv6pdyKoCijG"
      }
    },
    {
      "cell_type": "code",
      "source": [
        "!pip install sqlalchemy"
      ],
      "metadata": {
        "id": "s7fC3QBRLRWl"
      },
      "execution_count": null,
      "outputs": []
    },
    {
      "cell_type": "markdown",
      "source": [
        "Import necessário para utilizar o **sqlalchemy**"
      ],
      "metadata": {
        "id": "nb97d-RXLjSs"
      }
    },
    {
      "cell_type": "code",
      "source": [
        "from sqlalchemy import create_engine"
      ],
      "metadata": {
        "id": "1s4jXcCnLUQd"
      },
      "execution_count": 9,
      "outputs": []
    },
    {
      "cell_type": "markdown",
      "source": [
        "Criar conexão e arquivo da base SQLite"
      ],
      "metadata": {
        "id": "_PO3BGE6LuRz"
      }
    },
    {
      "cell_type": "code",
      "source": [
        "# Criar arquivo e conexão\n",
        "engine = create_engine('sqlite:///base.db', echo=False)\n",
        "sqlite_connection = engine.connect()"
      ],
      "metadata": {
        "id": "yCd1k7SaLWVr"
      },
      "execution_count": 10,
      "outputs": []
    },
    {
      "cell_type": "markdown",
      "source": [
        "Fazer o Pandas escrever no SQLite o Dataframe"
      ],
      "metadata": {
        "id": "QC39cilJMDcU"
      }
    },
    {
      "cell_type": "code",
      "source": [
        "sqlite_table = 'Base'\n",
        "df_base.to_sql(sqlite_table, sqlite_connection, if_exists='replace')"
      ],
      "metadata": {
        "id": "bqeIJ-clLcmb"
      },
      "execution_count": 11,
      "outputs": []
    },
    {
      "cell_type": "markdown",
      "source": [
        "Para mais configurações do sqlalchemy e to_sql (Pandas), segue o link das documentações:\n",
        "\n",
        "* https://pandas.pydata.org/docs/reference/api/pandas.DataFrame.to_sql.html\n",
        "* https://docs.sqlalchemy.org/en/14/dialects/sqlite.html\n"
      ],
      "metadata": {
        "id": "Kt8pPntgMNd7"
      }
    }
  ]
}